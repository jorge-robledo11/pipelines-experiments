{
 "cells": [
  {
   "cell_type": "code",
   "execution_count": 1,
   "id": "4dddb2e2",
   "metadata": {},
   "outputs": [
    {
     "name": "stdout",
     "output_type": "stream",
     "text": [
      "✅ Train guardado en: ../data/train.parquet\n",
      "✅ Test  guardado en: ../data/test.parquet\n"
     ]
    }
   ],
   "source": [
    "import fireducks.pandas as pd\n",
    "from pathlib import Path\n",
    "from sklearn.model_selection import train_test_split\n",
    "\n",
    "# 1. Ruta al directorio de datos\n",
    "data_dir = Path('../data')\n",
    "\n",
    "# 2. Carga el dataset completo\n",
    "df = pd.read_parquet(data_dir / 'dataset.parquet')\n",
    "\n",
    "# 3. Separa en train (70%) y test (30%) estratificado por 'target'\n",
    "train_df, test_df = train_test_split(\n",
    "    df,\n",
    "    test_size=0.3,\n",
    "    stratify=df['target'],\n",
    "    random_state=42,\n",
    ")\n",
    "\n",
    "# 4. Exporta ambos en formato Parquet al mismo directorio\n",
    "train_path = data_dir / 'train.parquet'\n",
    "test_path  = data_dir / 'test.parquet'\n",
    "\n",
    "train_df.to_parquet(train_path, index=False)\n",
    "test_df.to_parquet(test_path,  index=False)\n",
    "\n",
    "print(f'✅ Train guardado en: {train_path}')\n",
    "print(f'✅ Test  guardado en: {test_path}')"
   ]
  }
 ],
 "metadata": {
  "kernelspec": {
   "display_name": ".venv",
   "language": "python",
   "name": "python3"
  },
  "language_info": {
   "codemirror_mode": {
    "name": "ipython",
    "version": 3
   },
   "file_extension": ".py",
   "mimetype": "text/x-python",
   "name": "python",
   "nbconvert_exporter": "python",
   "pygments_lexer": "ipython3",
   "version": "3.12.10"
  }
 },
 "nbformat": 4,
 "nbformat_minor": 5
}
