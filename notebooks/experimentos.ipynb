{
  "cells": [
    {
      "cell_type": "code",
      "execution_count": 5,
      "metadata": {},
      "outputs": [
        {
          "name": "stdout",
          "output_type": "stream",
          "text": [
            "The autoreload extension is already loaded. To reload it, use:\n",
            "  %reload_ext autoreload\n"
          ]
        }
      ],
      "source": [
        "import sys\n",
        "from pathlib import Path\n",
        "sys.path.append(str(Path.cwd().parent))\n",
        "\n",
        "%load_ext autoreload\n",
        "%autoreload 2"
      ]
    },
    {
      "cell_type": "code",
      "execution_count": 6,
      "metadata": {},
      "outputs": [],
      "source": [
        "from src.feature_engineering import FeatureEngineeringPipeline\n",
        "import pandas as pd\n",
        "from sklearn.linear_model import SGDClassifier\n",
        "from sklearn.metrics import log_loss\n",
        "import optuna\n",
        "\n",
        "# ————————————————————————————————————————————————————————————————————————————————\n",
        "# 1) Carga de los datos de train/test (exportados previamente en data/)\n",
        "# ————————————————————————————————————————————————————————————————————————————————\n",
        "data_dir = Path('../data')\n",
        "train_df = pd.read_parquet(data_dir / 'train.parquet')\n",
        "test_df  = pd.read_parquet(data_dir / 'test.parquet')\n",
        "\n",
        "X_train = train_df.drop(columns=['target'])\n",
        "y_train = train_df['target'].values\n",
        "\n",
        "X_test  = test_df.drop(columns=['target'])\n",
        "y_test  = test_df['target'].values\n",
        "\n",
        "# Columnas\n",
        "CATEGORICAL_COLS = ['cat1', 'cat2']\n",
        "CONTINUOUS_COLS   = ['cont1', 'cont2', 'cont3', 'cont4']\n",
        "DISCRETE_COLS   = ['disc1', 'disc2']"
      ]
    },
    {
      "cell_type": "code",
      "execution_count": 7,
      "metadata": {},
      "outputs": [],
      "source": [
        "fe = FeatureEngineeringPipeline(\n",
        "    categorical_cols=['cat1', 'cat2'],\n",
        "    discrete_cols=['disc1', 'disc2'],\n",
        "    continuous_cols=['cont1', 'cont2', 'cont3', 'cont4'],\n",
        "    model=SGDClassifier(loss='log_loss', n_jobs=-1, random_state=42)\n",
        ")\n",
        "\n",
        "def objective(trial):\n",
        "    pipe = fe.build_pipeline(trial)\n",
        "    pipe.fit(X_train, y_train)\n",
        "    preds = pipe.predict_proba(X_test)[:,1]\n",
        "    return log_loss(y_test, preds)"
      ]
    },
    {
      "cell_type": "code",
      "execution_count": 10,
      "metadata": {},
      "outputs": [
        {
          "name": "stderr",
          "output_type": "stream",
          "text": [
            "[I 2025-05-03 18:51:33,174] A new study created in memory with name: no-name-1669c37a-d70b-4439-a9e7-e8d729114587\n",
            "[I 2025-05-03 18:51:37,189] Trial 16 finished with value: 0.33626786839907347 and parameters: {'cat_enc': 'woe', 'disc_enc': 'none', 'cont_tr': 'geometric_encode', 'cont_q': 7, 'cont_enc': 'mean'}. Best is trial 16 with value: 0.33626786839907347.\n",
            "[I 2025-05-03 18:51:37,401] Trial 3 finished with value: 0.3532390023559228 and parameters: {'cat_enc': 'ordinal', 'ordinal_method': 'arbitrary', 'disc_enc': 'none', 'cont_tr': 'equal_freq', 'cont_q': 6}. Best is trial 16 with value: 0.33626786839907347.\n",
            "[I 2025-05-03 18:51:37,610] Trial 25 finished with value: 0.3725033466029106 and parameters: {'cat_enc': 'none', 'disc_enc': 'countfreq', 'disc_countfreq_method': 'frequency', 'cont_tr': 'equal_width_encode', 'cont_q': 4, 'cont_enc': 'woe'}. Best is trial 16 with value: 0.33626786839907347.\n",
            "[I 2025-05-03 18:51:38,132] Trial 15 finished with value: 0.37546610689767745 and parameters: {'cat_enc': 'woe', 'disc_enc': 'ordinal', 'disc_ordinal_method': 'ordered', 'cont_tr': 'equal_freq', 'cont_q': 3}. Best is trial 16 with value: 0.33626786839907347.\n",
            "[I 2025-05-03 18:51:38,236] Trial 5 finished with value: 0.3586862692675353 and parameters: {'cat_enc': 'onehot', 'disc_enc': 'ordinal', 'disc_ordinal_method': 'ordered', 'cont_tr': 'equal_freq', 'cont_q': 4}. Best is trial 16 with value: 0.33626786839907347.\n",
            "[I 2025-05-03 18:51:38,329] Trial 26 finished with value: 0.41637405437063324 and parameters: {'cat_enc': 'none', 'disc_enc': 'onehot', 'cont_tr': 'equal_width', 'cont_q': 3}. Best is trial 16 with value: 0.33626786839907347.\n",
            "[I 2025-05-03 18:51:38,777] Trial 22 finished with value: 0.3471496918687778 and parameters: {'cat_enc': 'woe', 'disc_enc': 'countfreq', 'disc_countfreq_method': 'frequency', 'cont_tr': 'equal_freq', 'cont_q': 6}. Best is trial 16 with value: 0.33626786839907347.\n",
            "[I 2025-05-03 18:51:38,889] Trial 28 finished with value: 0.4847679433959934 and parameters: {'cat_enc': 'ordinal', 'ordinal_method': 'arbitrary', 'disc_enc': 'countfreq', 'disc_countfreq_method': 'frequency', 'cont_tr': 'equal_width_encode', 'cont_q': 8, 'cont_enc': 'ordinal', 'cont_ordinal_method': 'arbitrary'}. Best is trial 16 with value: 0.33626786839907347.\n",
            "[I 2025-05-03 18:51:39,154] Trial 23 finished with value: 0.3373028121654277 and parameters: {'cat_enc': 'ordinal', 'ordinal_method': 'arbitrary', 'disc_enc': 'ordinal', 'disc_ordinal_method': 'ordered', 'cont_tr': 'equal_freq', 'cont_q': 9}. Best is trial 16 with value: 0.33626786839907347.\n",
            "[I 2025-05-03 18:51:39,623] Trial 19 finished with value: 0.31404444404691295 and parameters: {'cat_enc': 'mean', 'disc_enc': 'mean', 'cont_tr': 'equal_width', 'cont_q': 10}. Best is trial 19 with value: 0.31404444404691295.\n",
            "[I 2025-05-03 18:51:40,110] Trial 33 finished with value: 0.4288228857734476 and parameters: {'cat_enc': 'none', 'disc_enc': 'woe', 'cont_tr': 'geometric', 'cont_q': 2}. Best is trial 19 with value: 0.31404444404691295.\n",
            "[I 2025-05-03 18:51:40,176] Trial 13 finished with value: 0.321534900379194 and parameters: {'cat_enc': 'none', 'disc_enc': 'onehot', 'cont_tr': 'geometric_encode', 'cont_q': 10, 'cont_enc': 'onehot'}. Best is trial 19 with value: 0.31404444404691295.\n",
            "[I 2025-05-03 18:51:41,961] Trial 24 finished with value: 0.43602850907402824 and parameters: {'cat_enc': 'none', 'disc_enc': 'woe', 'cont_tr': 'dtree_encode', 'cont_q': 6, 'cont_max_depth': 3, 'cont_enc': 'countfreq', 'cont_countfreq_method': 'frequency'}. Best is trial 19 with value: 0.31404444404691295.\n",
            "[I 2025-05-03 18:51:42,337] Trial 36 finished with value: 0.4158504061279428 and parameters: {'cat_enc': 'woe', 'disc_enc': 'ordinal', 'disc_ordinal_method': 'ordered', 'cont_tr': 'equal_width', 'cont_q': 3}. Best is trial 19 with value: 0.31404444404691295.\n",
            "[I 2025-05-03 18:51:42,521] Trial 27 finished with value: 0.3322931446743398 and parameters: {'cat_enc': 'mean', 'disc_enc': 'onehot', 'cont_tr': 'dtree_encode', 'cont_q': 9, 'cont_max_depth': 2, 'cont_enc': 'ordinal', 'cont_ordinal_method': 'ordered'}. Best is trial 19 with value: 0.31404444404691295.\n",
            "[I 2025-05-03 18:51:42,621] Trial 35 finished with value: 0.3471815394938039 and parameters: {'cat_enc': 'countfreq', 'countfreq_method': 'frequency', 'disc_enc': 'onehot', 'cont_tr': 'equal_freq', 'cont_q': 6}. Best is trial 19 with value: 0.31404444404691295.\n",
            "[I 2025-05-03 18:51:42,775] Trial 0 finished with value: 0.2974061283655607 and parameters: {'cat_enc': 'dtree', 'dtree_method': 'arbitrary', 'disc_enc': 'countfreq', 'disc_countfreq_method': 'frequency', 'cont_tr': 'none'}. Best is trial 0 with value: 0.2974061283655607.\n",
            "[I 2025-05-03 18:51:42,991] Trial 29 finished with value: 0.3179385419627135 and parameters: {'cat_enc': 'woe', 'disc_enc': 'ordinal', 'disc_ordinal_method': 'arbitrary', 'cont_tr': 'dtree', 'cont_q': 9, 'cont_max_depth': 3}. Best is trial 0 with value: 0.2974061283655607.\n",
            "[I 2025-05-03 18:51:43,522] Trial 40 finished with value: 0.5390226377788121 and parameters: {'cat_enc': 'woe', 'disc_enc': 'countfreq', 'disc_countfreq_method': 'frequency', 'cont_tr': 'equal_freq_encode', 'cont_q': 9, 'cont_enc': 'ordinal', 'cont_ordinal_method': 'arbitrary'}. Best is trial 0 with value: 0.2974061283655607.\n",
            "[I 2025-05-03 18:51:43,609] Trial 4 finished with value: 0.31484944084085714 and parameters: {'cat_enc': 'mean', 'disc_enc': 'woe', 'cont_tr': 'dtree', 'cont_q': 5, 'cont_max_depth': 4}. Best is trial 0 with value: 0.2974061283655607.\n",
            "[I 2025-05-03 18:51:44,197] Trial 42 finished with value: 0.32905394849468617 and parameters: {'cat_enc': 'mean', 'disc_enc': 'mean', 'cont_tr': 'geometric_encode', 'cont_q': 10, 'cont_enc': 'mean'}. Best is trial 0 with value: 0.2974061283655607.\n",
            "[I 2025-05-03 18:51:44,893] Trial 12 finished with value: 0.34714690947222354 and parameters: {'cat_enc': 'none', 'disc_enc': 'dtree', 'disc_dtree_method': 'arbitrary', 'cont_tr': 'equal_freq', 'cont_q': 6}. Best is trial 0 with value: 0.2974061283655607.\n",
            "[I 2025-05-03 18:51:44,990] Trial 41 finished with value: 0.31404444404691295 and parameters: {'cat_enc': 'mean', 'disc_enc': 'mean', 'cont_tr': 'equal_width', 'cont_q': 10}. Best is trial 0 with value: 0.2974061283655607.\n",
            "[I 2025-05-03 18:51:45,367] Trial 11 finished with value: 0.33618879766289445 and parameters: {'cat_enc': 'dtree', 'dtree_method': 'ordered', 'disc_enc': 'mean', 'cont_tr': 'geometric', 'cont_q': 7}. Best is trial 0 with value: 0.2974061283655607.\n",
            "[I 2025-05-03 18:51:45,889] Trial 20 finished with value: 0.35132448638429825 and parameters: {'cat_enc': 'mean', 'disc_enc': 'dtree', 'disc_dtree_method': 'arbitrary', 'cont_tr': 'equal_freq', 'cont_q': 7}. Best is trial 0 with value: 0.2974061283655607.\n",
            "[I 2025-05-03 18:51:46,307] Trial 32 finished with value: 0.31472257801148723 and parameters: {'cat_enc': 'ordinal', 'ordinal_method': 'arbitrary', 'disc_enc': 'none', 'cont_tr': 'dtree', 'cont_q': 3, 'cont_max_depth': 4}. Best is trial 0 with value: 0.2974061283655607.\n",
            "[I 2025-05-03 18:51:46,399] Trial 43 finished with value: 0.31404444404691295 and parameters: {'cat_enc': 'mean', 'disc_enc': 'mean', 'cont_tr': 'equal_width', 'cont_q': 10}. Best is trial 0 with value: 0.2974061283655607.\n",
            "[I 2025-05-03 18:51:46,961] Trial 21 finished with value: 0.31974689202584655 and parameters: {'cat_enc': 'dtree', 'dtree_method': 'arbitrary', 'disc_enc': 'onehot', 'cont_tr': 'equal_width', 'cont_q': 9}. Best is trial 0 with value: 0.2974061283655607.\n",
            "[I 2025-05-03 18:51:48,006] Trial 44 finished with value: 0.3213324358352338 and parameters: {'cat_enc': 'mean', 'disc_enc': 'mean', 'cont_tr': 'geometric_encode', 'cont_q': 10, 'cont_enc': 'onehot'}. Best is trial 0 with value: 0.2974061283655607.\n",
            "[I 2025-05-03 18:51:48,167] Trial 38 finished with value: 0.2974056430620006 and parameters: {'cat_enc': 'mean', 'disc_enc': 'dtree', 'disc_dtree_method': 'arbitrary', 'cont_tr': 'none'}. Best is trial 38 with value: 0.2974056430620006.\n",
            "[I 2025-05-03 18:51:48,497] Trial 46 finished with value: 0.3213324358352338 and parameters: {'cat_enc': 'mean', 'disc_enc': 'mean', 'cont_tr': 'geometric_encode', 'cont_q': 10, 'cont_enc': 'onehot'}. Best is trial 38 with value: 0.2974056430620006.\n",
            "[I 2025-05-03 18:51:48,534] Trial 45 finished with value: 0.3213324358352338 and parameters: {'cat_enc': 'mean', 'disc_enc': 'mean', 'cont_tr': 'geometric_encode', 'cont_q': 10, 'cont_enc': 'onehot'}. Best is trial 38 with value: 0.2974056430620006.\n",
            "[I 2025-05-03 18:51:49,015] Trial 37 finished with value: 0.3330608175746968 and parameters: {'cat_enc': 'ordinal', 'ordinal_method': 'ordered', 'disc_enc': 'dtree', 'disc_dtree_method': 'arbitrary', 'cont_tr': 'geometric_encode', 'cont_q': 8, 'cont_enc': 'mean'}. Best is trial 38 with value: 0.2974056430620006.\n",
            "[I 2025-05-03 18:51:49,743] Trial 2 finished with value: 0.31696058177254394 and parameters: {'cat_enc': 'dtree', 'dtree_method': 'ordered', 'disc_enc': 'woe', 'cont_tr': 'dtree', 'cont_q': 7, 'cont_max_depth': 3}. Best is trial 38 with value: 0.2974056430620006.\n",
            "[I 2025-05-03 18:51:50,273] Trial 47 finished with value: 0.312860532954697 and parameters: {'cat_enc': 'mean', 'disc_enc': 'mean', 'cont_tr': 'equal_freq_encode', 'cont_q': 10, 'cont_enc': 'onehot'}. Best is trial 38 with value: 0.2974056430620006.\n",
            "[I 2025-05-03 18:51:50,766] Trial 18 finished with value: 0.38920989402323525 and parameters: {'cat_enc': 'none', 'disc_enc': 'woe', 'cont_tr': 'equal_width_encode', 'cont_q': 7, 'cont_enc': 'dtree', 'cont_dtree_method': 'ordered'}. Best is trial 38 with value: 0.2974056430620006.\n",
            "[I 2025-05-03 18:51:50,832] Trial 48 finished with value: 0.29740564567473504 and parameters: {'cat_enc': 'dtree', 'dtree_method': 'arbitrary', 'disc_enc': 'mean', 'cont_tr': 'none'}. Best is trial 38 with value: 0.2974056430620006.\n",
            "[I 2025-05-03 18:51:50,887] Trial 8 finished with value: 8.780233965588938 and parameters: {'cat_enc': 'countfreq', 'countfreq_method': 'frequency', 'disc_enc': 'countfreq', 'disc_countfreq_method': 'count', 'cont_tr': 'dtree', 'cont_q': 4, 'cont_max_depth': 5}. Best is trial 38 with value: 0.2974056430620006.\n",
            "[I 2025-05-03 18:51:50,990] Trial 49 finished with value: 0.29740564567473504 and parameters: {'cat_enc': 'dtree', 'dtree_method': 'arbitrary', 'disc_enc': 'mean', 'cont_tr': 'none'}. Best is trial 38 with value: 0.2974056430620006.\n",
            "[I 2025-05-03 18:51:51,066] Trial 50 finished with value: 0.29740564567473504 and parameters: {'cat_enc': 'dtree', 'dtree_method': 'arbitrary', 'disc_enc': 'mean', 'cont_tr': 'none'}. Best is trial 38 with value: 0.2974056430620006.\n",
            "[I 2025-05-03 18:51:51,498] Trial 51 finished with value: 0.29740564567473504 and parameters: {'cat_enc': 'dtree', 'dtree_method': 'arbitrary', 'disc_enc': 'mean', 'cont_tr': 'none'}. Best is trial 38 with value: 0.2974056430620006.\n",
            "[I 2025-05-03 18:51:51,534] Trial 52 finished with value: 0.29740564567473504 and parameters: {'cat_enc': 'dtree', 'dtree_method': 'arbitrary', 'disc_enc': 'mean', 'cont_tr': 'none'}. Best is trial 38 with value: 0.2974056430620006.\n",
            "[I 2025-05-03 18:51:51,961] Trial 53 finished with value: 0.29740564567473504 and parameters: {'cat_enc': 'dtree', 'dtree_method': 'arbitrary', 'disc_enc': 'mean', 'cont_tr': 'none'}. Best is trial 38 with value: 0.2974056430620006.\n",
            "[I 2025-05-03 18:51:52,052] Trial 6 finished with value: 0.31182444605287296 and parameters: {'cat_enc': 'ordinal', 'ordinal_method': 'arbitrary', 'disc_enc': 'none', 'cont_tr': 'dtree', 'cont_q': 6, 'cont_max_depth': 5}. Best is trial 38 with value: 0.2974056430620006.\n",
            "[I 2025-05-03 18:51:52,370] Trial 54 finished with value: 0.29740564567473504 and parameters: {'cat_enc': 'dtree', 'dtree_method': 'arbitrary', 'disc_enc': 'mean', 'cont_tr': 'none'}. Best is trial 38 with value: 0.2974056430620006.\n",
            "[I 2025-05-03 18:51:52,681] Trial 55 finished with value: 0.29740564567473504 and parameters: {'cat_enc': 'dtree', 'dtree_method': 'arbitrary', 'disc_enc': 'mean', 'cont_tr': 'none'}. Best is trial 38 with value: 0.2974056430620006.\n",
            "[I 2025-05-03 18:51:52,951] Trial 56 finished with value: 0.29740564567473504 and parameters: {'cat_enc': 'dtree', 'dtree_method': 'arbitrary', 'disc_enc': 'mean', 'cont_tr': 'none'}. Best is trial 38 with value: 0.2974056430620006.\n",
            "[I 2025-05-03 18:51:53,366] Trial 57 finished with value: 0.29740564567473504 and parameters: {'cat_enc': 'dtree', 'dtree_method': 'arbitrary', 'disc_enc': 'mean', 'cont_tr': 'none'}. Best is trial 38 with value: 0.2974056430620006.\n",
            "[I 2025-05-03 18:51:53,973] Trial 58 finished with value: 0.29740564567473504 and parameters: {'cat_enc': 'dtree', 'dtree_method': 'arbitrary', 'disc_enc': 'mean', 'cont_tr': 'none'}. Best is trial 38 with value: 0.2974056430620006.\n",
            "[I 2025-05-03 18:51:54,074] Trial 59 finished with value: 0.29740564567473504 and parameters: {'cat_enc': 'dtree', 'dtree_method': 'arbitrary', 'disc_enc': 'mean', 'cont_tr': 'none'}. Best is trial 38 with value: 0.2974056430620006.\n",
            "[I 2025-05-03 18:51:54,460] Trial 34 finished with value: 0.3407446902749591 and parameters: {'cat_enc': 'dtree', 'dtree_method': 'ordered', 'disc_enc': 'dtree', 'disc_dtree_method': 'ordered', 'cont_tr': 'equal_width', 'cont_q': 6}. Best is trial 38 with value: 0.2974056430620006.\n",
            "[I 2025-05-03 18:51:54,881] Trial 60 finished with value: 0.29740564567473504 and parameters: {'cat_enc': 'dtree', 'dtree_method': 'arbitrary', 'disc_enc': 'mean', 'cont_tr': 'none'}. Best is trial 38 with value: 0.2974056430620006.\n",
            "[I 2025-05-03 18:51:55,225] Trial 30 finished with value: 0.4630613202052983 and parameters: {'cat_enc': 'dtree', 'dtree_method': 'arbitrary', 'disc_enc': 'dtree', 'disc_dtree_method': 'ordered', 'cont_tr': 'dtree_encode', 'cont_q': 6, 'cont_max_depth': 4, 'cont_enc': 'countfreq', 'cont_countfreq_method': 'frequency'}. Best is trial 38 with value: 0.2974056430620006.\n",
            "[I 2025-05-03 18:51:58,573] Trial 77 finished with value: 0.29748130907205866 and parameters: {'cat_enc': 'onehot', 'disc_enc': 'dtree', 'disc_dtree_method': 'ordered', 'cont_tr': 'none'}. Best is trial 38 with value: 0.2974056430620006.\n",
            "[I 2025-05-03 18:51:59,038] Trial 78 finished with value: 0.29748130907205866 and parameters: {'cat_enc': 'onehot', 'disc_enc': 'dtree', 'disc_dtree_method': 'ordered', 'cont_tr': 'none'}. Best is trial 38 with value: 0.2974056430620006.\n",
            "[I 2025-05-03 18:51:59,306] Trial 61 finished with value: 0.2974056544702698 and parameters: {'cat_enc': 'dtree', 'dtree_method': 'arbitrary', 'disc_enc': 'dtree', 'disc_dtree_method': 'ordered', 'cont_tr': 'none'}. Best is trial 38 with value: 0.2974056430620006.\n",
            "[I 2025-05-03 18:51:59,314] Trial 79 finished with value: 0.29748130907205866 and parameters: {'cat_enc': 'onehot', 'disc_enc': 'dtree', 'disc_dtree_method': 'ordered', 'cont_tr': 'none'}. Best is trial 38 with value: 0.2974056430620006.\n",
            "[I 2025-05-03 18:51:59,767] Trial 62 finished with value: 0.2974056544702698 and parameters: {'cat_enc': 'dtree', 'dtree_method': 'arbitrary', 'disc_enc': 'dtree', 'disc_dtree_method': 'ordered', 'cont_tr': 'none'}. Best is trial 38 with value: 0.2974056430620006.\n",
            "[I 2025-05-03 18:51:59,811] Trial 63 finished with value: 0.2974056544702698 and parameters: {'cat_enc': 'dtree', 'dtree_method': 'arbitrary', 'disc_enc': 'dtree', 'disc_dtree_method': 'ordered', 'cont_tr': 'none'}. Best is trial 38 with value: 0.2974056430620006.\n",
            "[I 2025-05-03 18:51:59,882] Trial 80 finished with value: 0.29748130907205866 and parameters: {'cat_enc': 'onehot', 'disc_enc': 'dtree', 'disc_dtree_method': 'ordered', 'cont_tr': 'none'}. Best is trial 38 with value: 0.2974056430620006.\n",
            "[I 2025-05-03 18:52:00,127] Trial 85 finished with value: 0.3000007567203294 and parameters: {'cat_enc': 'onehot', 'disc_enc': 'none', 'cont_tr': 'none'}. Best is trial 38 with value: 0.2974056430620006.\n",
            "[I 2025-05-03 18:52:00,238] Trial 64 finished with value: 0.2974056544702698 and parameters: {'cat_enc': 'dtree', 'dtree_method': 'arbitrary', 'disc_enc': 'dtree', 'disc_dtree_method': 'ordered', 'cont_tr': 'none'}. Best is trial 38 with value: 0.2974056430620006.\n",
            "[I 2025-05-03 18:52:00,239] Trial 81 finished with value: 0.29748130907205866 and parameters: {'cat_enc': 'onehot', 'disc_enc': 'dtree', 'disc_dtree_method': 'ordered', 'cont_tr': 'none'}. Best is trial 38 with value: 0.2974056430620006.\n",
            "[I 2025-05-03 18:52:00,614] Trial 82 finished with value: 0.29748130907205866 and parameters: {'cat_enc': 'onehot', 'disc_enc': 'dtree', 'disc_dtree_method': 'ordered', 'cont_tr': 'none'}. Best is trial 38 with value: 0.2974056430620006.\n",
            "[I 2025-05-03 18:52:00,704] Trial 65 finished with value: 0.2974056544702698 and parameters: {'cat_enc': 'dtree', 'dtree_method': 'arbitrary', 'disc_enc': 'dtree', 'disc_dtree_method': 'ordered', 'cont_tr': 'none'}. Best is trial 38 with value: 0.2974056430620006.\n",
            "[I 2025-05-03 18:52:01,251] Trial 83 finished with value: 0.29748130907205866 and parameters: {'cat_enc': 'onehot', 'disc_enc': 'dtree', 'disc_dtree_method': 'ordered', 'cont_tr': 'none'}. Best is trial 38 with value: 0.2974056430620006.\n",
            "[I 2025-05-03 18:52:01,366] Trial 66 finished with value: 0.2974056544702698 and parameters: {'cat_enc': 'dtree', 'dtree_method': 'arbitrary', 'disc_enc': 'dtree', 'disc_dtree_method': 'ordered', 'cont_tr': 'none'}. Best is trial 38 with value: 0.2974056430620006.\n",
            "[I 2025-05-03 18:52:01,937] Trial 84 finished with value: 0.29748130907205866 and parameters: {'cat_enc': 'onehot', 'disc_enc': 'dtree', 'disc_dtree_method': 'arbitrary', 'cont_tr': 'none'}. Best is trial 38 with value: 0.2974056430620006.\n",
            "[I 2025-05-03 18:52:02,466] Trial 69 finished with value: 0.2974056544702698 and parameters: {'cat_enc': 'dtree', 'dtree_method': 'arbitrary', 'disc_enc': 'dtree', 'disc_dtree_method': 'ordered', 'cont_tr': 'none'}. Best is trial 38 with value: 0.2974056430620006.\n",
            "[I 2025-05-03 18:52:02,919] Trial 68 finished with value: 0.2974056544702698 and parameters: {'cat_enc': 'dtree', 'dtree_method': 'arbitrary', 'disc_enc': 'dtree', 'disc_dtree_method': 'ordered', 'cont_tr': 'none'}. Best is trial 38 with value: 0.2974056430620006.\n",
            "[I 2025-05-03 18:52:03,155] Trial 67 finished with value: 0.2974056544702698 and parameters: {'cat_enc': 'dtree', 'dtree_method': 'arbitrary', 'disc_enc': 'dtree', 'disc_dtree_method': 'ordered', 'cont_tr': 'none'}. Best is trial 38 with value: 0.2974056430620006.\n",
            "[I 2025-05-03 18:52:03,189] Trial 70 finished with value: 0.2974056544702698 and parameters: {'cat_enc': 'dtree', 'dtree_method': 'arbitrary', 'disc_enc': 'dtree', 'disc_dtree_method': 'ordered', 'cont_tr': 'none'}. Best is trial 38 with value: 0.2974056430620006.\n",
            "[I 2025-05-03 18:52:03,460] Trial 71 finished with value: 0.2974056544702698 and parameters: {'cat_enc': 'dtree', 'dtree_method': 'arbitrary', 'disc_enc': 'dtree', 'disc_dtree_method': 'ordered', 'cont_tr': 'none'}. Best is trial 38 with value: 0.2974056430620006.\n",
            "[I 2025-05-03 18:52:03,633] Trial 74 finished with value: 0.2974056544702698 and parameters: {'cat_enc': 'dtree', 'dtree_method': 'arbitrary', 'disc_enc': 'dtree', 'disc_dtree_method': 'ordered', 'cont_tr': 'none'}. Best is trial 38 with value: 0.2974056430620006.\n",
            "[I 2025-05-03 18:52:03,843] Trial 73 finished with value: 0.2974056544702698 and parameters: {'cat_enc': 'dtree', 'dtree_method': 'arbitrary', 'disc_enc': 'dtree', 'disc_dtree_method': 'ordered', 'cont_tr': 'none'}. Best is trial 38 with value: 0.2974056430620006.\n",
            "[I 2025-05-03 18:52:04,033] Trial 72 finished with value: 0.2974056544702698 and parameters: {'cat_enc': 'dtree', 'dtree_method': 'arbitrary', 'disc_enc': 'dtree', 'disc_dtree_method': 'ordered', 'cont_tr': 'none'}. Best is trial 38 with value: 0.2974056430620006.\n",
            "[I 2025-05-03 18:52:04,186] Trial 75 finished with value: 0.2974056544702698 and parameters: {'cat_enc': 'dtree', 'dtree_method': 'arbitrary', 'disc_enc': 'dtree', 'disc_dtree_method': 'ordered', 'cont_tr': 'none'}. Best is trial 38 with value: 0.2974056430620006.\n",
            "[I 2025-05-03 18:52:04,624] Trial 76 finished with value: 0.2974056544702698 and parameters: {'cat_enc': 'dtree', 'dtree_method': 'arbitrary', 'disc_enc': 'dtree', 'disc_dtree_method': 'ordered', 'cont_tr': 'none'}. Best is trial 38 with value: 0.2974056430620006.\n",
            "[I 2025-05-03 18:52:05,120] Trial 88 finished with value: 0.29996682530131363 and parameters: {'cat_enc': 'dtree', 'dtree_method': 'arbitrary', 'disc_enc': 'none', 'cont_tr': 'none'}. Best is trial 38 with value: 0.2974056430620006.\n",
            "[I 2025-05-03 18:52:05,681] Trial 91 finished with value: 0.3443436342919408 and parameters: {'cat_enc': 'dtree', 'dtree_method': 'arbitrary', 'disc_enc': 'none', 'cont_tr': 'geometric', 'cont_q': 5}. Best is trial 38 with value: 0.2974056430620006.\n",
            "[I 2025-05-03 18:52:08,336] Trial 9 finished with value: 27.18905218473162 and parameters: {'cat_enc': 'onehot', 'disc_enc': 'countfreq', 'disc_countfreq_method': 'count', 'cont_tr': 'equal_freq', 'cont_q': 5}. Best is trial 38 with value: 0.2974056430620006.\n",
            "[I 2025-05-03 18:52:11,633] Trial 10 finished with value: 0.318183584679003 and parameters: {'cat_enc': 'dtree', 'dtree_method': 'ordered', 'disc_enc': 'dtree', 'disc_dtree_method': 'ordered', 'cont_tr': 'dtree', 'cont_q': 8, 'cont_max_depth': 5}. Best is trial 38 with value: 0.2974056430620006.\n",
            "[I 2025-05-03 18:52:21,318] Trial 14 finished with value: 8.780233965588938 and parameters: {'cat_enc': 'woe', 'disc_enc': 'countfreq', 'disc_countfreq_method': 'count', 'cont_tr': 'equal_width', 'cont_q': 8}. Best is trial 38 with value: 0.2974056430620006.\n",
            "[I 2025-05-03 18:52:25,762] Trial 89 finished with value: 8.780233965588938 and parameters: {'cat_enc': 'countfreq', 'countfreq_method': 'count', 'disc_enc': 'none', 'cont_tr': 'geometric', 'cont_q': 5}. Best is trial 38 with value: 0.2974056430620006.\n",
            "[I 2025-05-03 18:52:25,989] Trial 90 finished with value: 8.780233965588938 and parameters: {'cat_enc': 'countfreq', 'countfreq_method': 'count', 'disc_enc': 'none', 'cont_tr': 'geometric', 'cont_q': 5}. Best is trial 38 with value: 0.2974056430620006.\n",
            "[I 2025-05-03 18:52:30,018] Trial 17 finished with value: 8.780233965588938 and parameters: {'cat_enc': 'none', 'disc_enc': 'woe', 'cont_tr': 'equal_freq_encode', 'cont_q': 8, 'cont_enc': 'countfreq', 'cont_countfreq_method': 'count'}. Best is trial 38 with value: 0.2974056430620006.\n",
            "[I 2025-05-03 18:52:30,557] Trial 87 finished with value: 8.780233965588938 and parameters: {'cat_enc': 'countfreq', 'countfreq_method': 'count', 'disc_enc': 'none', 'cont_tr': 'none'}. Best is trial 38 with value: 0.2974056430620006.\n",
            "[I 2025-05-03 18:52:31,094] Trial 7 finished with value: 27.263419423528212 and parameters: {'cat_enc': 'onehot', 'disc_enc': 'countfreq', 'disc_countfreq_method': 'count', 'cont_tr': 'equal_freq', 'cont_q': 3}. Best is trial 38 with value: 0.2974056430620006.\n",
            "/home/lynn/Documentos/Development/Scripts_and_Notebooks/Artificial_Intelligence/machine-learning-pipelines/.venv/lib/python3.12/site-packages/sklearn/linear_model/_stochastic_gradient.py:738: ConvergenceWarning: Maximum number of iteration reached before convergence. Consider increasing max_iter to improve the fit.\n",
            "  warnings.warn(\n",
            "[I 2025-05-03 18:52:31,873] Trial 1 finished with value: 8.780233965588938 and parameters: {'cat_enc': 'none', 'disc_enc': 'countfreq', 'disc_countfreq_method': 'count', 'cont_tr': 'equal_width_encode', 'cont_q': 6, 'cont_enc': 'mean'}. Best is trial 38 with value: 0.2974056430620006.\n",
            "[I 2025-05-03 18:52:32,035] Trial 86 finished with value: 8.780233965588938 and parameters: {'cat_enc': 'countfreq', 'countfreq_method': 'count', 'disc_enc': 'none', 'cont_tr': 'none'}. Best is trial 38 with value: 0.2974056430620006.\n",
            "/home/lynn/Documentos/Development/Scripts_and_Notebooks/Artificial_Intelligence/machine-learning-pipelines/.venv/lib/python3.12/site-packages/sklearn/linear_model/_stochastic_gradient.py:738: ConvergenceWarning: Maximum number of iteration reached before convergence. Consider increasing max_iter to improve the fit.\n",
            "  warnings.warn(\n",
            "[I 2025-05-03 18:52:34,780] Trial 31 finished with value: 8.780233965588938 and parameters: {'cat_enc': 'countfreq', 'countfreq_method': 'count', 'disc_enc': 'none', 'cont_tr': 'geometric_encode', 'cont_q': 5, 'cont_enc': 'onehot'}. Best is trial 38 with value: 0.2974056430620006.\n",
            "[I 2025-05-03 18:52:36,137] Trial 95 finished with value: 27.263419423528212 and parameters: {'cat_enc': 'countfreq', 'countfreq_method': 'count', 'disc_enc': 'mean', 'cont_tr': 'geometric', 'cont_q': 5}. Best is trial 38 with value: 0.2974056430620006.\n",
            "[I 2025-05-03 18:52:36,832] Trial 96 finished with value: 27.263419423528212 and parameters: {'cat_enc': 'countfreq', 'countfreq_method': 'count', 'disc_enc': 'mean', 'cont_tr': 'geometric', 'cont_q': 5}. Best is trial 38 with value: 0.2974056430620006.\n",
            "[I 2025-05-03 18:52:36,962] Trial 94 finished with value: 27.263419423528212 and parameters: {'cat_enc': 'countfreq', 'countfreq_method': 'count', 'disc_enc': 'mean', 'cont_tr': 'geometric', 'cont_q': 5}. Best is trial 38 with value: 0.2974056430620006.\n",
            "[I 2025-05-03 18:52:40,736] Trial 98 finished with value: 27.263419423528212 and parameters: {'cat_enc': 'countfreq', 'countfreq_method': 'count', 'disc_enc': 'mean', 'cont_tr': 'geometric', 'cont_q': 5}. Best is trial 38 with value: 0.2974056430620006.\n",
            "[I 2025-05-03 18:52:42,163] Trial 93 finished with value: 27.263419423528212 and parameters: {'cat_enc': 'countfreq', 'countfreq_method': 'count', 'disc_enc': 'mean', 'cont_tr': 'geometric', 'cont_q': 5}. Best is trial 38 with value: 0.2974056430620006.\n",
            "[I 2025-05-03 18:52:45,909] Trial 92 finished with value: 27.263419423528212 and parameters: {'cat_enc': 'countfreq', 'countfreq_method': 'count', 'disc_enc': 'mean', 'cont_tr': 'geometric', 'cont_q': 5}. Best is trial 38 with value: 0.2974056430620006.\n",
            "/home/lynn/Documentos/Development/Scripts_and_Notebooks/Artificial_Intelligence/machine-learning-pipelines/.venv/lib/python3.12/site-packages/sklearn/linear_model/_stochastic_gradient.py:738: ConvergenceWarning: Maximum number of iteration reached before convergence. Consider increasing max_iter to improve the fit.\n",
            "  warnings.warn(\n",
            "[I 2025-05-03 18:52:53,331] Trial 97 finished with value: 8.780233965588938 and parameters: {'cat_enc': 'countfreq', 'countfreq_method': 'count', 'disc_enc': 'mean', 'cont_tr': 'geometric', 'cont_q': 2}. Best is trial 38 with value: 0.2974056430620006.\n",
            "/home/lynn/Documentos/Development/Scripts_and_Notebooks/Artificial_Intelligence/machine-learning-pipelines/.venv/lib/python3.12/site-packages/sklearn/linear_model/_stochastic_gradient.py:738: ConvergenceWarning: Maximum number of iteration reached before convergence. Consider increasing max_iter to improve the fit.\n",
            "  warnings.warn(\n",
            "[I 2025-05-03 18:52:53,463] Trial 99 finished with value: 8.780233965588938 and parameters: {'cat_enc': 'countfreq', 'countfreq_method': 'count', 'disc_enc': 'mean', 'cont_tr': 'geometric', 'cont_q': 2}. Best is trial 38 with value: 0.2974056430620006.\n",
            "/home/lynn/Documentos/Development/Scripts_and_Notebooks/Artificial_Intelligence/machine-learning-pipelines/.venv/lib/python3.12/site-packages/sklearn/linear_model/_stochastic_gradient.py:738: ConvergenceWarning: Maximum number of iteration reached before convergence. Consider increasing max_iter to improve the fit.\n",
            "  warnings.warn(\n",
            "[I 2025-05-03 18:53:00,961] Trial 39 finished with value: 8.780233965588938 and parameters: {'cat_enc': 'countfreq', 'countfreq_method': 'count', 'disc_enc': 'none', 'cont_tr': 'dtree_encode', 'cont_q': 8, 'cont_max_depth': 4, 'cont_enc': 'onehot'}. Best is trial 38 with value: 0.2974056430620006.\n"
          ]
        },
        {
          "name": "stdout",
          "output_type": "stream",
          "text": [
            "Mejor trial: 38\n",
            "→ Parámetros: {'cat_enc': 'mean', 'disc_enc': 'dtree', 'disc_dtree_method': 'arbitrary', 'cont_tr': 'none'}\n",
            "→ Log-loss: 0.2974056430620006\n"
          ]
        }
      ],
      "source": [
        "if __name__ == \"__main__\":\n",
        "\n",
        "    study = optuna.create_study(\n",
        "        direction=\"minimize\",\n",
        "    )\n",
        "    study.optimize(\n",
        "        objective,\n",
        "        n_trials=100,\n",
        "        catch=(ValueError, RuntimeError),\n",
        "        n_jobs=-1                         \n",
        "    )\n",
        "    print(\"Mejor trial:\", study.best_trial.number)\n",
        "    print(\"→ Parámetros:\", study.best_params)\n",
        "    print(\"→ Log-loss:\", study.best_value)"
      ]
    },
    {
      "cell_type": "code",
      "execution_count": 11,
      "metadata": {},
      "outputs": [
        {
          "name": "stdout",
          "output_type": "stream",
          "text": [
            "Pipeline guardada en best_pipeline.pkl\n"
          ]
        }
      ],
      "source": [
        "import joblib\n",
        "\n",
        "# 1) Ajusta la mejor pipeline sobre todo el dataset (o solo train si prefieres)\n",
        "best_pipe = fe.build_pipeline(study.best_trial)\n",
        "best_pipe.fit(X_train, y_train)\n",
        "\n",
        "# 2) Serializa a disco\n",
        "pipe_dir = Path('../pipelines')\n",
        "pipe_dir.mkdir(parents=True, exist_ok=True)\n",
        "\n",
        "# 4. Guardar también en Parquet\n",
        "pipe_path = pipe_dir / 'best_pipeline.pkl'\n",
        "\n",
        "joblib.dump(best_pipe, str(pipe_path))\n",
        "print('Pipeline guardada en best_pipeline.pkl')"
      ]
    }
  ],
  "metadata": {
    "kernelspec": {
      "display_name": ".venv",
      "language": "python",
      "name": "python3"
    },
    "language_info": {
      "codemirror_mode": {
        "name": "ipython",
        "version": 3
      },
      "file_extension": ".py",
      "mimetype": "text/x-python",
      "name": "python",
      "nbconvert_exporter": "python",
      "pygments_lexer": "ipython3",
      "version": "3.12.10"
    }
  },
  "nbformat": 4,
  "nbformat_minor": 2
}
