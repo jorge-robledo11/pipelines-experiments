{
 "cells": [
  {
   "cell_type": "code",
   "execution_count": null,
   "id": "d63edd18",
   "metadata": {},
   "outputs": [],
   "source": [
    "import numpy as np\n",
    "import pandas as pd\n",
    "from pathlib import Path\n",
    "from scipy.special import expit  # sigmoide estable\n",
    "\n",
    "# 1) Parámetros\n",
    "N = 500_000\n",
    "np.random.seed(42)\n",
    "cats1 = ['A', 'B', 'C', 'D', 'E']\n",
    "cats2 = ['X', 'Y', 'Z']\n",
    "\n",
    "# 2) Generación del DataFrame\n",
    "df = pd.DataFrame({\n",
    "    'cat1': np.random.choice(cats1, size=N),\n",
    "    'cat2': np.random.choice(cats2, size=N),\n",
    "    'cont1': np.random.normal(loc=0.0, scale=1.0, size=N),\n",
    "    'cont2': np.random.uniform(low=0.0, high=1.0, size=N),\n",
    "    'cont3': np.random.exponential(scale=1.0, size=N),\n",
    "    'cont4': np.random.gamma(shape=2.0, scale=2.0, size=N),\n",
    "    'disc1': np.random.randint(0, 4, size=N),\n",
    "    'disc2': np.random.randint(1, 6, size=N),\n",
    "})\n",
    "\n",
    "# 3) Cast a categorías\n",
    "for c in ['cat1','cat2','disc1','disc2']:\n",
    "    df[c] = df[c].astype('category')\n",
    "\n",
    "# 4) Clipping de continuas y redondeo a 2 decimales\n",
    "for col in ['cont1','cont2','cont3','cont4']:\n",
    "    lo, hi = df[col].quantile([0.001, 0.999])\n",
    "    df[col] = df[col].clip(lo, hi).round(4)\n",
    "\n",
    "# 5) Construcción del target\n",
    "noise = np.random.normal(scale=0.5, size=N)\n",
    "logit = (\n",
    "    -0.2\n",
    "  + 0.4 * df['cont1']\n",
    "  - 0.3 * df['cont2']\n",
    "  + 0.5 * df['cont3']\n",
    "  - 0.2 * df['cont4']\n",
    "  + noise\n",
    ")\n",
    "logit = np.clip(logit, -10, 10)\n",
    "prob = expit(logit)\n",
    "df['target'] = (prob > 0.5).astype('int8')\n",
    "\n",
    "# 6) Guardar en Parquet\n",
    "data_dir = Path('../data')\n",
    "data_dir.mkdir(parents=True, exist_ok=True)\n",
    "parquet_path = data_dir / 'dataset.parquet'\n",
    "df.to_parquet(parquet_path, index=False)"
   ]
  }
 ],
 "metadata": {
  "kernelspec": {
   "display_name": ".venv",
   "language": "python",
   "name": "python3"
  },
  "language_info": {
   "codemirror_mode": {
    "name": "ipython",
    "version": 3
   },
   "file_extension": ".py",
   "mimetype": "text/x-python",
   "name": "python",
   "nbconvert_exporter": "python",
   "pygments_lexer": "ipython3",
   "version": "3.12.10"
  }
 },
 "nbformat": 4,
 "nbformat_minor": 5
}
